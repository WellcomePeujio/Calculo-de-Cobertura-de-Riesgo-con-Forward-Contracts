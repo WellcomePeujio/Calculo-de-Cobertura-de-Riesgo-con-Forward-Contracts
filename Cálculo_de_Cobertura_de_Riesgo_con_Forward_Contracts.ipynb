{
  "nbformat": 4,
  "nbformat_minor": 0,
  "metadata": {
    "colab": {
      "private_outputs": true,
      "provenance": [],
      "authorship_tag": "ABX9TyM3I4LvN2iV7rUO9UqlQHsC",
      "include_colab_link": true
    },
    "kernelspec": {
      "name": "python3",
      "display_name": "Python 3"
    },
    "language_info": {
      "name": "python"
    }
  },
  "cells": [
    {
      "cell_type": "markdown",
      "metadata": {
        "id": "view-in-github",
        "colab_type": "text"
      },
      "source": [
        "<a href=\"https://colab.research.google.com/github/WellcomePeujio/Calculo-de-Cobertura-de-Riesgo-con-Forward-Contracts/blob/main/C%C3%A1lculo_de_Cobertura_de_Riesgo_con_Forward_Contracts.ipynb\" target=\"_parent\"><img src=\"https://colab.research.google.com/assets/colab-badge.svg\" alt=\"Open In Colab\"/></a>"
      ]
    },
    {
      "cell_type": "markdown",
      "source": [
        "# Cálculo de Cobertura de Riesgo con Forward Contracts\n",
        "\n",
        "**Problema**: Una empresa exportadora recibirá $500,000 USD en 6 meses. El tipo de cambio actual es 18 MXN/USD y el contrato forward ofrece un tipo de cambio de 18.5 MXN/USD.\n",
        "\n",
        "---\n",
        "\n",
        "**Preguntas**:\n",
        "\n",
        "1. ¿Cuánto recibirá la empresa si utiliza el contrato forward?  \n",
        "\n",
        "2. ¿Cuál es la ganancia o pérdida si el tipo de cambio spot en 6 meses es 18.2 MXN/USD?\n"
      ],
      "metadata": {
        "id": "8BFP5Sy40eF1"
      }
    },
    {
      "cell_type": "markdown",
      "source": [
        "# Resolución Matemática: Cobertura de Riesgo con Forward Contracts\n",
        "\n",
        "## Datos del Problema:\n",
        "\n",
        "- **Monto a recibir**: $500,000 USD  \n",
        "\n",
        "- **Tipo de cambio forward**: 18.5 MXN/USD  \n",
        "\n",
        "- **Tipo de cambio spot en 6 meses**: 18.2 MXN/USD  \n",
        "\n",
        "---\n",
        "\n",
        "## Paso 1: Cálculo del monto recibido con el contrato forward\n",
        "\n",
        "La fórmula para calcular el monto recibido utilizando el **contrato forward** es:\n",
        "\n",
        "$$\n",
        "\\text{Monto Forward} = \\text{Monto en USD} \\times \\text{Tipo de Cambio Forward}\n",
        "$$\n",
        "\n",
        "Sustituyendo los valores:\n",
        "\n",
        "$$\n",
        "\\text{Monto Forward} = 500,000 \\times 18.5 = 9,250,000 \\, \\text{MXN}\n",
        "$$\n",
        "\n",
        "---\n",
        "\n",
        "## Paso 2: Cálculo del monto recibido al tipo de cambio spot\n",
        "\n",
        "Si la empresa no utiliza el contrato forward, el monto recibido dependerá del tipo de cambio **spot** en 6 meses. La fórmula es:\n",
        "\n",
        "$$\n",
        "\\text{Monto Spot} = \\text{Monto en USD} \\times \\text{Tipo de Cambio Spot}\n",
        "$$\n",
        "\n",
        "Sustituyendo los valores:\n",
        "\n",
        "$$\n",
        "\\text{Monto Spot} = 500,000 \\times 18.2 = 9,100,000 \\, \\text{MXN}\n",
        "$$\n",
        "\n",
        "---\n",
        "\n",
        "## Paso 3: Cálculo de la ganancia o pérdida con el contrato forward\n",
        "\n",
        "La ganancia o pérdida de usar el contrato forward en lugar del tipo de cambio spot se calcula como la diferencia entre el monto forward y el monto spot:\n",
        "\n",
        "$$\n",
        "\\text{Ganancia/Pérdida} = \\text{Monto Forward} - \\text{Monto Spot}\n",
        "$$\n",
        "\n",
        "Sustituyendo los valores:\n",
        "\n",
        "$$\n",
        "\\text{Ganancia/Pérdida} = 9,250,000 - 9,100,000 = 150,000 \\, \\text{MXN}\n",
        "$$\n",
        "\n",
        "---\n",
        "\n",
        "## Resultados Finales:\n",
        "\n",
        "1. **Monto recibido utilizando el contrato forward**: $9,250,000 MXN  \n",
        "\n",
        "2. **Monto recibido al tipo de cambio spot**: $9,100,000 MXN  \n",
        "\n",
        "3. **Ganancia por usar el contrato forward**: $150,000 MXN  \n",
        "\n",
        "La cobertura con el contrato forward asegura una ganancia de **$150,000 MXN** comparada con la alternativa de usar el tipo de cambio spot.\n"
      ],
      "metadata": {
        "id": "eGD_9Td815iW"
      }
    },
    {
      "cell_type": "code",
      "source": [
        "import matplotlib.pyplot as plt\n",
        "import numpy as np\n",
        "\n",
        "# Datos\n",
        "monto_usd = 500_000\n",
        "tipo_cambio_forward = 18.5\n",
        "tipo_cambio_spot = 18.2\n",
        "tipo_cambio_actual = 18.0  # Agregamos un tipo de cambio inicial para ilustrar la evolución\n",
        "\n",
        "# Calcular montos\n",
        "monto_forward = monto_usd * tipo_cambio_forward\n",
        "monto_spot = monto_usd * tipo_cambio_spot\n",
        "monto_actual = monto_usd * tipo_cambio_actual\n",
        "\n",
        "# Crear datos de tipo de cambio y montos\n",
        "tipos_cambio = [tipo_cambio_actual, tipo_cambio_spot, tipo_cambio_forward]\n",
        "montos = [monto_actual, monto_spot, monto_forward]\n",
        "etiquetas = ['Tipo de Cambio Actual', 'Tipo de Cambio Spot', 'Tipo de Cambio Forward']\n",
        "\n",
        "# Crear la gráfica\n",
        "plt.figure(figsize=(10, 6))\n",
        "plt.plot(etiquetas, montos, marker='o', linestyle='--', color='b', label='Monto en MXN')\n",
        "plt.title('Evolución de los Montos según Tipo de Cambio')\n",
        "plt.ylabel('Monto Recibido (MXN)')\n",
        "plt.xlabel('Tipo de Cambio')\n",
        "plt.grid(True)\n",
        "plt.text(0, monto_actual + 50000, f\"${monto_actual:,.0f}\", ha='center', fontsize=12)\n",
        "plt.text(1, monto_spot + 50000, f\"${monto_spot:,.0f}\", ha='center', fontsize=12)\n",
        "plt.text(2, monto_forward + 50000, f\"${monto_forward:,.0f}\", ha='center', fontsize=12)\n",
        "plt.legend()\n",
        "plt.tight_layout()\n",
        "plt.show()\n",
        "\n",
        "# Mostrar resultados numéricos\n",
        "monto_forward, monto_spot, monto_actual, monto_forward - monto_spot\n"
      ],
      "metadata": {
        "id": "DmMQzU4T2eR4"
      },
      "execution_count": null,
      "outputs": []
    }
  ]
}